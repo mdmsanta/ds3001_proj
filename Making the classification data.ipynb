{
 "cells": [
  {
   "cell_type": "code",
   "execution_count": 2,
   "metadata": {},
   "outputs": [],
   "source": [
    "import numpy as np\n",
    "import pandas as pd"
   ]
  },
  {
   "cell_type": "code",
   "execution_count": 3,
   "metadata": {},
   "outputs": [],
   "source": [
    "old_data = pd.read_csv(\"clean.csv\")"
   ]
  },
  {
   "cell_type": "code",
   "execution_count": 4,
   "metadata": {},
   "outputs": [
    {
     "data": {
      "text/html": [
       "<div>\n",
       "<style scoped>\n",
       "    .dataframe tbody tr th:only-of-type {\n",
       "        vertical-align: middle;\n",
       "    }\n",
       "\n",
       "    .dataframe tbody tr th {\n",
       "        vertical-align: top;\n",
       "    }\n",
       "\n",
       "    .dataframe thead th {\n",
       "        text-align: right;\n",
       "    }\n",
       "</style>\n",
       "<table border=\"1\" class=\"dataframe\">\n",
       "  <thead>\n",
       "    <tr style=\"text-align: right;\">\n",
       "      <th></th>\n",
       "      <th>Unnamed: 0</th>\n",
       "      <th>commonFileTypes</th>\n",
       "      <th>creatorName</th>\n",
       "      <th>creatorUserId</th>\n",
       "      <th>currentDatasetVersionId</th>\n",
       "      <th>currentDatasetVersionNumber</th>\n",
       "      <th>datasetId</th>\n",
       "      <th>datasetSize</th>\n",
       "      <th>dateUpdated</th>\n",
       "      <th>diffType</th>\n",
       "      <th>...</th>\n",
       "      <th>scriptCount</th>\n",
       "      <th>title</th>\n",
       "      <th>topicCount</th>\n",
       "      <th>type</th>\n",
       "      <th>viewCount</th>\n",
       "      <th>voteButton</th>\n",
       "      <th>competitionCount</th>\n",
       "      <th>description</th>\n",
       "      <th>full</th>\n",
       "      <th>category</th>\n",
       "    </tr>\n",
       "  </thead>\n",
       "  <tbody>\n",
       "    <tr>\n",
       "      <th>0</th>\n",
       "      <td>0</td>\n",
       "      <td>'csv'</td>\n",
       "      <td>Paul Mooney</td>\n",
       "      <td>1314380</td>\n",
       "      <td>161079</td>\n",
       "      <td>5</td>\n",
       "      <td>70947</td>\n",
       "      <td>4043536.0</td>\n",
       "      <td>11/3/2018</td>\n",
       "      <td>unversioned</td>\n",
       "      <td>...</td>\n",
       "      <td>190</td>\n",
       "      <td>2018 Kaggle ML &amp; DS Survey Challenge</td>\n",
       "      <td>12</td>\n",
       "      <td>fileset</td>\n",
       "      <td>274306</td>\n",
       "      <td>678</td>\n",
       "      <td>0</td>\n",
       "      <td>None</td>\n",
       "      <td>'analysis &gt; survey analysis'</td>\n",
       "      <td>'survey analysis'</td>\n",
       "    </tr>\n",
       "    <tr>\n",
       "      <th>1</th>\n",
       "      <td>1</td>\n",
       "      <td>'other'</td>\n",
       "      <td>Jason King</td>\n",
       "      <td>459483</td>\n",
       "      <td>194523</td>\n",
       "      <td>1</td>\n",
       "      <td>83790</td>\n",
       "      <td>968989653.0</td>\n",
       "      <td>11/28/2018</td>\n",
       "      <td>versioned</td>\n",
       "      <td>...</td>\n",
       "      <td>11</td>\n",
       "      <td>English Wikipedia Articles 2017-08-20 Models</td>\n",
       "      <td>0</td>\n",
       "      <td>fileset</td>\n",
       "      <td>176</td>\n",
       "      <td>2</td>\n",
       "      <td>0</td>\n",
       "      <td>None</td>\n",
       "      <td>'analysis &gt; text mining'</td>\n",
       "      <td>'text mining'</td>\n",
       "    </tr>\n",
       "    <tr>\n",
       "      <th>2</th>\n",
       "      <td>2</td>\n",
       "      <td>'csv'</td>\n",
       "      <td>Mehdi Dagdoug</td>\n",
       "      <td>1227281</td>\n",
       "      <td>59109</td>\n",
       "      <td>1</td>\n",
       "      <td>38809</td>\n",
       "      <td>5621145.0</td>\n",
       "      <td>7/25/2018</td>\n",
       "      <td>versioned</td>\n",
       "      <td>...</td>\n",
       "      <td>40</td>\n",
       "      <td>Black Friday</td>\n",
       "      <td>4</td>\n",
       "      <td>fileset</td>\n",
       "      <td>80770</td>\n",
       "      <td>298</td>\n",
       "      <td>1</td>\n",
       "      <td>'Businesses are organizational entities that ...</td>\n",
       "      <td>'society and social sciences &gt; society &gt; busi...</td>\n",
       "      <td>'business'</td>\n",
       "    </tr>\n",
       "    <tr>\n",
       "      <th>3</th>\n",
       "      <td>3</td>\n",
       "      <td>'other'</td>\n",
       "      <td>Chris Crawford</td>\n",
       "      <td>484516</td>\n",
       "      <td>150301</td>\n",
       "      <td>18</td>\n",
       "      <td>45286</td>\n",
       "      <td>45177047.0</td>\n",
       "      <td>10/29/2018</td>\n",
       "      <td>unversioned</td>\n",
       "      <td>...</td>\n",
       "      <td>54</td>\n",
       "      <td>Data Science for Good: Center for Policing Equity</td>\n",
       "      <td>27</td>\n",
       "      <td>fileset</td>\n",
       "      <td>52192</td>\n",
       "      <td>282</td>\n",
       "      <td>0</td>\n",
       "      <td>'Datasets and kernels under the government ag...</td>\n",
       "      <td>'general reference &gt; research tools and topic...</td>\n",
       "      <td>'government agencies'</td>\n",
       "    </tr>\n",
       "    <tr>\n",
       "      <th>4</th>\n",
       "      <td>4</td>\n",
       "      <td>'other'</td>\n",
       "      <td>Danil</td>\n",
       "      <td>1914606</td>\n",
       "      <td>36285</td>\n",
       "      <td>2</td>\n",
       "      <td>28335</td>\n",
       "      <td>609430422.0</td>\n",
       "      <td>5/25/2018</td>\n",
       "      <td>versioned</td>\n",
       "      <td>...</td>\n",
       "      <td>5</td>\n",
       "      <td>Art Images: Drawing/Painting/Sculptures/Engrav...</td>\n",
       "      <td>0</td>\n",
       "      <td>fileset</td>\n",
       "      <td>4086</td>\n",
       "      <td>42</td>\n",
       "      <td>0</td>\n",
       "      <td>\"Activities that holds the attention and inte...</td>\n",
       "      <td>'culture and arts &gt; arts and entertainment'</td>\n",
       "      <td>'arts and entertainment'</td>\n",
       "    </tr>\n",
       "  </tbody>\n",
       "</table>\n",
       "<p>5 rows × 26 columns</p>\n",
       "</div>"
      ],
      "text/plain": [
       "   Unnamed: 0 commonFileTypes     creatorName  creatorUserId  \\\n",
       "0           0           'csv'     Paul Mooney        1314380   \n",
       "1           1         'other'      Jason King         459483   \n",
       "2           2           'csv'   Mehdi Dagdoug        1227281   \n",
       "3           3         'other'  Chris Crawford         484516   \n",
       "4           4         'other'           Danil        1914606   \n",
       "\n",
       "   currentDatasetVersionId  currentDatasetVersionNumber  datasetId  \\\n",
       "0                   161079                            5      70947   \n",
       "1                   194523                            1      83790   \n",
       "2                    59109                            1      38809   \n",
       "3                   150301                           18      45286   \n",
       "4                    36285                            2      28335   \n",
       "\n",
       "   datasetSize dateUpdated     diffType            ...             \\\n",
       "0    4043536.0   11/3/2018  unversioned            ...              \n",
       "1  968989653.0  11/28/2018    versioned            ...              \n",
       "2    5621145.0   7/25/2018    versioned            ...              \n",
       "3   45177047.0  10/29/2018  unversioned            ...              \n",
       "4  609430422.0   5/25/2018    versioned            ...              \n",
       "\n",
       "   scriptCount                                              title  topicCount  \\\n",
       "0          190               2018 Kaggle ML & DS Survey Challenge          12   \n",
       "1           11       English Wikipedia Articles 2017-08-20 Models           0   \n",
       "2           40                                       Black Friday           4   \n",
       "3           54  Data Science for Good: Center for Policing Equity          27   \n",
       "4            5  Art Images: Drawing/Painting/Sculptures/Engrav...           0   \n",
       "\n",
       "      type viewCount voteButton  competitionCount  \\\n",
       "0  fileset    274306        678                 0   \n",
       "1  fileset       176          2                 0   \n",
       "2  fileset     80770        298                 1   \n",
       "3  fileset     52192        282                 0   \n",
       "4  fileset      4086         42                 0   \n",
       "\n",
       "                                         description  \\\n",
       "0                                               None   \n",
       "1                                               None   \n",
       "2   'Businesses are organizational entities that ...   \n",
       "3   'Datasets and kernels under the government ag...   \n",
       "4   \"Activities that holds the attention and inte...   \n",
       "\n",
       "                                                full                  category  \n",
       "0                       'analysis > survey analysis'         'survey analysis'  \n",
       "1                           'analysis > text mining'             'text mining'  \n",
       "2   'society and social sciences > society > busi...                'business'  \n",
       "3   'general reference > research tools and topic...     'government agencies'  \n",
       "4        'culture and arts > arts and entertainment'  'arts and entertainment'  \n",
       "\n",
       "[5 rows x 26 columns]"
      ]
     },
     "execution_count": 4,
     "metadata": {},
     "output_type": "execute_result"
    }
   ],
   "source": [
    "old_data.head()"
   ]
  },
  {
   "cell_type": "code",
   "execution_count": 19,
   "metadata": {},
   "outputs": [],
   "source": [
    "file_type = []"
   ]
  },
  {
   "cell_type": "code",
   "execution_count": 20,
   "metadata": {},
   "outputs": [
    {
     "name": "stdout",
     "output_type": "stream",
     "text": [
      "[\" 'csv'\" \" 'other'\" \" 'json'\" \" 'sqlite'\"]\n"
     ]
    }
   ],
   "source": [
    "print(old_data['commonFileTypes'].unique())"
   ]
  },
  {
   "cell_type": "code",
   "execution_count": 21,
   "metadata": {},
   "outputs": [],
   "source": [
    "for i in range(0,len(old_data.commonFileTypes)):\n",
    "    if old_data.commonFileTypes[i] == \" 'csv'\":\n",
    "        file_type.append(3)\n",
    "    elif old_data.commonFileTypes[i] == \" 'sqlite'\":\n",
    "        file_type.append(2)\n",
    "    elif old_data.commonFileTypes[i] == \" 'json'\":\n",
    "        file_type.append(1)\n",
    "    else:\n",
    "        file_type.append(0)\n"
   ]
  },
  {
   "cell_type": "code",
   "execution_count": 29,
   "metadata": {},
   "outputs": [
    {
     "data": {
      "text/plain": [
       "0.25       27116.25\n",
       "0.50      561409.50\n",
       "0.75    15631105.25\n",
       "Name: datasetSize, dtype: float64"
      ]
     },
     "execution_count": 29,
     "metadata": {},
     "output_type": "execute_result"
    }
   ],
   "source": [
    "old_data.datasetSize.quantile([0.25,0.5,0.75])"
   ]
  },
  {
   "cell_type": "code",
   "execution_count": 132,
   "metadata": {},
   "outputs": [],
   "source": [
    "datasize = []"
   ]
  },
  {
   "cell_type": "code",
   "execution_count": 133,
   "metadata": {},
   "outputs": [],
   "source": [
    "for i in range(0,len(old_data.datasetSize)):\n",
    "    if 0 <= old_data.datasetSize[i] < 27116.25:\n",
    "        datasize.append(0)\n",
    "    elif 27116.25 <= old_data.datasetSize[i] <561409.50:\n",
    "        datasize.append(1)\n",
    "    elif 561409.50 <= old_data.datasetSize[i] <15631105.25:\n",
    "        datasize.append(2)\n",
    "    else:\n",
    "        datasize.append(3)\n"
   ]
  },
  {
   "cell_type": "code",
   "execution_count": 134,
   "metadata": {},
   "outputs": [
    {
     "data": {
      "text/plain": [
       "13020"
      ]
     },
     "execution_count": 134,
     "metadata": {},
     "output_type": "execute_result"
    }
   ],
   "source": [
    "len(datasize)"
   ]
  },
  {
   "cell_type": "code",
   "execution_count": 45,
   "metadata": {},
   "outputs": [],
   "source": [
    "featured = []"
   ]
  },
  {
   "cell_type": "code",
   "execution_count": 46,
   "metadata": {},
   "outputs": [],
   "source": [
    "for i in range(0, len(old_data.isFeatured)):\n",
    "    if old_data.isFeatured[i] == True:\n",
    "        featured.append(1)\n",
    "    if old_data.isFeatured[i] == False:\n",
    "        featured.append(0)"
   ]
  },
  {
   "cell_type": "code",
   "execution_count": 47,
   "metadata": {},
   "outputs": [
    {
     "data": {
      "text/plain": [
       "13020"
      ]
     },
     "execution_count": 47,
     "metadata": {},
     "output_type": "execute_result"
    }
   ],
   "source": [
    "len(featured)"
   ]
  },
  {
   "cell_type": "code",
   "execution_count": 49,
   "metadata": {},
   "outputs": [
    {
     "name": "stdout",
     "output_type": "stream",
     "text": [
      "Hi Leah\n",
      "Hi Leah\n",
      "Hi Leah\n",
      "Hi Leah\n",
      "Hi Leah\n",
      "Hi Leah\n",
      "Hi Leah\n",
      "Hi Leah\n",
      "Hi Leah\n",
      "Hi Leah\n",
      "Hi Leah\n",
      "Hi Leah\n",
      "Hi Leah\n",
      "Hi Leah\n",
      "Hi Leah\n",
      "Hi Leah\n",
      "Hi Leah\n",
      "Hi Leah\n",
      "Hi Leah\n",
      "Hi Leah\n",
      "Hi Leah\n",
      "Hi Leah\n"
     ]
    }
   ],
   "source": [
    "for i in range(0, len(featured)):\n",
    "    if old_data.isFeatured[i] == True:\n",
    "        if old_data.isSuperFeatured[i] == True:\n",
    "            print(\"Hi Leah\")"
   ]
  },
  {
   "cell_type": "code",
   "execution_count": 50,
   "metadata": {},
   "outputs": [],
   "source": [
    "superfeatured = []"
   ]
  },
  {
   "cell_type": "code",
   "execution_count": 51,
   "metadata": {},
   "outputs": [],
   "source": [
    "for i in range(0, len(old_data.isSuperFeatured)):\n",
    "    if old_data.isSuperFeatured[i] == True:\n",
    "        superfeatured.append(1)\n",
    "    if old_data.isSuperFeatured[i] == False:\n",
    "        superfeatured.append(0)"
   ]
  },
  {
   "cell_type": "code",
   "execution_count": 53,
   "metadata": {},
   "outputs": [],
   "source": [
    "n = len(superfeatured) #so i can just keep using this value"
   ]
  },
  {
   "cell_type": "code",
   "execution_count": 60,
   "metadata": {},
   "outputs": [],
   "source": [
    "competition= []"
   ]
  },
  {
   "cell_type": "code",
   "execution_count": 61,
   "metadata": {},
   "outputs": [],
   "source": [
    "for i in range(0, n):\n",
    "    if old_data.competitionCount[i] >= 1:\n",
    "        competition.append(1)\n",
    "    elif old_data.competitionCount[i] == 0:\n",
    "        competition.append(0)"
   ]
  },
  {
   "cell_type": "code",
   "execution_count": 62,
   "metadata": {},
   "outputs": [
    {
     "name": "stdout",
     "output_type": "stream",
     "text": [
      "13020\n"
     ]
    }
   ],
   "source": [
    "print(len(competition))"
   ]
  },
  {
   "cell_type": "code",
   "execution_count": 72,
   "metadata": {},
   "outputs": [
    {
     "data": {
      "text/plain": [
       "' None'"
      ]
     },
     "execution_count": 72,
     "metadata": {},
     "output_type": "execute_result"
    }
   ],
   "source": [
    "old_data.description[0]"
   ]
  },
  {
   "cell_type": "code",
   "execution_count": 76,
   "metadata": {},
   "outputs": [],
   "source": [
    "description = []"
   ]
  },
  {
   "cell_type": "code",
   "execution_count": 77,
   "metadata": {},
   "outputs": [],
   "source": [
    "for i in range(0,n):\n",
    "    if old_data.description[i] == ' None':\n",
    "        description.append(0)\n",
    "    else:\n",
    "        description.append(1)"
   ]
  },
  {
   "cell_type": "code",
   "execution_count": 100,
   "metadata": {},
   "outputs": [],
   "source": [
    "category = []"
   ]
  },
  {
   "cell_type": "code",
   "execution_count": 101,
   "metadata": {},
   "outputs": [],
   "source": [
    "for i in range(0,n):\n",
    "    if type(old_data.category[i]) == float:\n",
    "        category.append(0)\n",
    "    else:\n",
    "        category.append(1)"
   ]
  },
  {
   "cell_type": "code",
   "execution_count": 137,
   "metadata": {},
   "outputs": [],
   "source": [
    "ratio = []\n",
    "ratio2 = []"
   ]
  },
  {
   "cell_type": "code",
   "execution_count": 138,
   "metadata": {},
   "outputs": [],
   "source": [
    "for i in range(0, n):\n",
    "    if old_data.viewCount[i] == 0:\n",
    "        ratio.append(0)\n",
    "    else:\n",
    "        value = old_data.downloadCount[i] / old_data.viewCount[i]\n",
    "        ratio.append(value)"
   ]
  },
  {
   "cell_type": "code",
   "execution_count": 139,
   "metadata": {},
   "outputs": [],
   "source": [
    "ratio = np.array(ratio)"
   ]
  },
  {
   "cell_type": "code",
   "execution_count": 140,
   "metadata": {},
   "outputs": [
    {
     "data": {
      "text/plain": [
       "array([0.03196862, 0.06332496, 0.10760415])"
      ]
     },
     "execution_count": 140,
     "metadata": {},
     "output_type": "execute_result"
    }
   ],
   "source": [
    "np.quantile(ratio,[0.25,0.5,0.75])"
   ]
  },
  {
   "cell_type": "code",
   "execution_count": 141,
   "metadata": {},
   "outputs": [],
   "source": [
    "for i in range(0,n):\n",
    "    if 0 <= ratio[i] < 0.03196862:\n",
    "        ratio2.append(0)\n",
    "    elif 0.03196862 <= ratio[i] < 0.06332496:\n",
    "        ratio2.append(1)\n",
    "    elif 0.06332496<= ratio[i] <0.10760415:\n",
    "        ratio2.append(2)\n",
    "    else:\n",
    "        ratio2.append(3)"
   ]
  },
  {
   "cell_type": "code",
   "execution_count": 122,
   "metadata": {},
   "outputs": [],
   "source": [
    "def unique(list1): \n",
    "      \n",
    "    # insert the list to the set \n",
    "    list_set = set(list1) \n",
    "    # convert the set to the list \n",
    "    unique_list = (list(list_set)) \n",
    "    for x in unique_list: \n",
    "        print (x)"
   ]
  },
  {
   "cell_type": "code",
   "execution_count": 145,
   "metadata": {},
   "outputs": [
    {
     "data": {
      "text/plain": [
       "array([ 678,    2,  298,  282,   42,   59,   15,   20,  267,   71,   57,\n",
       "        614,   33,   75,   17,   13,    0,    7,   50,   72,    8,    3,\n",
       "          1,  116,  883,    5,    4,    6,   14,   61,   31,   44,   63,\n",
       "         21,   34,   28,   16,   12,   84,   25,    9,   27,   60,   29,\n",
       "         45,   66,   73,   35,  322,  182,  409,  234,   18,  231,   76,\n",
       "        510,   19,   32,   90,   46,  278,   10,   79,  268,  108,   78,\n",
       "        174,   11,   36,  228,   55,   58,   85,   81,  155,  104,   30,\n",
       "         56,  622,  203,  176,  156,   48,  262,  602,   65,  119,  118,\n",
       "        170,   23,   86,   43,  105,   52,   24,  127,  128,  141,   41,\n",
       "        339,   62,  250,  269,  621,   74,   96, 2235,   51,  115,   93,\n",
       "        536,  184,   38,   49,   37,  243,   80,  220,  398,  173,  995,\n",
       "         40,  459,   39,  140,  216,  123,  238,  169,  371,  288,  733,\n",
       "        187,  107,  334,  362,   97,  256,  672,   47,  218,   26,   69,\n",
       "         91,  157,   22,   53,  177,  171,  135,  142,  145,  436,  124,\n",
       "        160,  221,  253,  202,   54,  335,  183,  780,  100,  496,   83,\n",
       "         68,   89,  110,  130, 1069,   64,   92,   77,  191,  361,  111,\n",
       "        109,  134,  365,  225,  535,   98,   67,  166,   82,  146,  341,\n",
       "        121,  113,  138,  154,  106, 1476,  454,  247,  254,  219,  133,\n",
       "         87,  192,  315,  710,  637,   94,  701,  162,  117,  452,  168,\n",
       "        468,   70,  697,  125,  486,  211,  434,  333,  248,  226,  164,\n",
       "        306,  317,  364,  287,  316,  367, 1279,  330,  122,  311,  647,\n",
       "        114,   88,  195,   99,  286,  131,  413,  501,  206,  204,  185,\n",
       "         95,  103,  296], dtype=int64)"
      ]
     },
     "execution_count": 145,
     "metadata": {},
     "output_type": "execute_result"
    }
   ],
   "source": [
    "old_data.voteButton.unique()"
   ]
  },
  {
   "cell_type": "code",
   "execution_count": 155,
   "metadata": {},
   "outputs": [
    {
     "data": {
      "text/plain": [
       "0.25    0.0\n",
       "0.50    0.0\n",
       "0.75    3.0\n",
       "Name: voteButton, dtype: float64"
      ]
     },
     "execution_count": 155,
     "metadata": {},
     "output_type": "execute_result"
    }
   ],
   "source": [
    "old_data.voteButton.quantile([0.25,0.5,0.75])"
   ]
  },
  {
   "cell_type": "code",
   "execution_count": 167,
   "metadata": {},
   "outputs": [],
   "source": [
    "votes = []"
   ]
  },
  {
   "cell_type": "code",
   "execution_count": 168,
   "metadata": {},
   "outputs": [],
   "source": [
    "for i in range(0,n):\n",
    "    if 3 <= old_data.voteButton[i]:\n",
    "        votes.append(2)\n",
    "    elif 0 < old_data.voteButton[i] < 3:\n",
    "        votes.append(1)\n",
    "    else:\n",
    "        votes.append(0)"
   ]
  },
  {
   "cell_type": "code",
   "execution_count": 173,
   "metadata": {},
   "outputs": [],
   "source": [
    "license = []"
   ]
  },
  {
   "cell_type": "code",
   "execution_count": 174,
   "metadata": {},
   "outputs": [],
   "source": [
    "for i in range(0,n):\n",
    "    if old_data.licenseShortName[i] == \"free\":\n",
    "        license.append(1)\n",
    "    else:\n",
    "        license.append(0)"
   ]
  },
  {
   "cell_type": "code",
   "execution_count": 181,
   "metadata": {},
   "outputs": [],
   "source": [
    "names = old_data.title"
   ]
  },
  {
   "cell_type": "code",
   "execution_count": 190,
   "metadata": {},
   "outputs": [],
   "source": [
    "Popularity = [] \n",
    "Quality= []\n",
    "Information = []\n",
    "Total = []"
   ]
  },
  {
   "cell_type": "code",
   "execution_count": 191,
   "metadata": {},
   "outputs": [],
   "source": [
    "for i in range(0, n):\n",
    "    pop = featured[i]+superfeatured[i]+ratio2[i]+votes[i]\n",
    "    qual = file_type[i]+datasize[i] +competition[i]\n",
    "    info = description[i]+category[i] + license[i]\n",
    "    tot = pop + qual + info\n",
    "    Popularity.append(pop)\n",
    "    Quality.append(qual)\n",
    "    Information.append(info)\n",
    "    Total.append(tot)"
   ]
  },
  {
   "cell_type": "code",
   "execution_count": 195,
   "metadata": {},
   "outputs": [],
   "source": [
    "new_data = pd.DataFrame(\n",
    "    {'Title': names,\n",
    "     'FileTypes': file_type,\n",
    "     'DataSize': datasize,\n",
    "     'isFeature': featured,\n",
    "     'isSuperFeature': superfeatured,\n",
    "     'CompetitionCount': competition,\n",
    "     'Description': description,\n",
    "     'Category': category,\n",
    "     'Ratio': ratio2,\n",
    "     'voteButton': votes,\n",
    "     'License': license,\n",
    "     'Populariy':Popularity,\n",
    "     'Quality':Quality,\n",
    "     'Information':Information,\n",
    "     'Total': Total\n",
    "    })\n"
   ]
  },
  {
   "cell_type": "code",
   "execution_count": 196,
   "metadata": {},
   "outputs": [
    {
     "data": {
      "text/html": [
       "<div>\n",
       "<style scoped>\n",
       "    .dataframe tbody tr th:only-of-type {\n",
       "        vertical-align: middle;\n",
       "    }\n",
       "\n",
       "    .dataframe tbody tr th {\n",
       "        vertical-align: top;\n",
       "    }\n",
       "\n",
       "    .dataframe thead th {\n",
       "        text-align: right;\n",
       "    }\n",
       "</style>\n",
       "<table border=\"1\" class=\"dataframe\">\n",
       "  <thead>\n",
       "    <tr style=\"text-align: right;\">\n",
       "      <th></th>\n",
       "      <th>Title</th>\n",
       "      <th>FileTypes</th>\n",
       "      <th>DataSize</th>\n",
       "      <th>isFeature</th>\n",
       "      <th>isSuperFeature</th>\n",
       "      <th>CompetitionCount</th>\n",
       "      <th>Description</th>\n",
       "      <th>Category</th>\n",
       "      <th>Ratio</th>\n",
       "      <th>voteButton</th>\n",
       "      <th>License</th>\n",
       "      <th>Populariy</th>\n",
       "      <th>Quality</th>\n",
       "      <th>Information</th>\n",
       "      <th>Total</th>\n",
       "    </tr>\n",
       "  </thead>\n",
       "  <tbody>\n",
       "    <tr>\n",
       "      <th>0</th>\n",
       "      <td>2018 Kaggle ML &amp; DS Survey Challenge</td>\n",
       "      <td>3</td>\n",
       "      <td>2</td>\n",
       "      <td>1</td>\n",
       "      <td>1</td>\n",
       "      <td>0</td>\n",
       "      <td>0</td>\n",
       "      <td>1</td>\n",
       "      <td>0</td>\n",
       "      <td>2</td>\n",
       "      <td>1</td>\n",
       "      <td>4</td>\n",
       "      <td>5</td>\n",
       "      <td>2</td>\n",
       "      <td>11</td>\n",
       "    </tr>\n",
       "    <tr>\n",
       "      <th>1</th>\n",
       "      <td>English Wikipedia Articles 2017-08-20 Models</td>\n",
       "      <td>0</td>\n",
       "      <td>3</td>\n",
       "      <td>1</td>\n",
       "      <td>1</td>\n",
       "      <td>0</td>\n",
       "      <td>0</td>\n",
       "      <td>1</td>\n",
       "      <td>1</td>\n",
       "      <td>1</td>\n",
       "      <td>1</td>\n",
       "      <td>4</td>\n",
       "      <td>3</td>\n",
       "      <td>2</td>\n",
       "      <td>9</td>\n",
       "    </tr>\n",
       "    <tr>\n",
       "      <th>2</th>\n",
       "      <td>Black Friday</td>\n",
       "      <td>3</td>\n",
       "      <td>2</td>\n",
       "      <td>1</td>\n",
       "      <td>1</td>\n",
       "      <td>1</td>\n",
       "      <td>1</td>\n",
       "      <td>1</td>\n",
       "      <td>3</td>\n",
       "      <td>2</td>\n",
       "      <td>1</td>\n",
       "      <td>7</td>\n",
       "      <td>6</td>\n",
       "      <td>3</td>\n",
       "      <td>16</td>\n",
       "    </tr>\n",
       "    <tr>\n",
       "      <th>3</th>\n",
       "      <td>Data Science for Good: Center for Policing Equity</td>\n",
       "      <td>0</td>\n",
       "      <td>3</td>\n",
       "      <td>1</td>\n",
       "      <td>1</td>\n",
       "      <td>0</td>\n",
       "      <td>1</td>\n",
       "      <td>1</td>\n",
       "      <td>1</td>\n",
       "      <td>2</td>\n",
       "      <td>1</td>\n",
       "      <td>5</td>\n",
       "      <td>3</td>\n",
       "      <td>3</td>\n",
       "      <td>11</td>\n",
       "    </tr>\n",
       "    <tr>\n",
       "      <th>4</th>\n",
       "      <td>Art Images: Drawing/Painting/Sculptures/Engrav...</td>\n",
       "      <td>0</td>\n",
       "      <td>3</td>\n",
       "      <td>1</td>\n",
       "      <td>1</td>\n",
       "      <td>0</td>\n",
       "      <td>1</td>\n",
       "      <td>1</td>\n",
       "      <td>3</td>\n",
       "      <td>2</td>\n",
       "      <td>1</td>\n",
       "      <td>7</td>\n",
       "      <td>3</td>\n",
       "      <td>3</td>\n",
       "      <td>13</td>\n",
       "    </tr>\n",
       "  </tbody>\n",
       "</table>\n",
       "</div>"
      ],
      "text/plain": [
       "                                               Title  FileTypes  DataSize  \\\n",
       "0               2018 Kaggle ML & DS Survey Challenge          3         2   \n",
       "1       English Wikipedia Articles 2017-08-20 Models          0         3   \n",
       "2                                       Black Friday          3         2   \n",
       "3  Data Science for Good: Center for Policing Equity          0         3   \n",
       "4  Art Images: Drawing/Painting/Sculptures/Engrav...          0         3   \n",
       "\n",
       "   isFeature  isSuperFeature  CompetitionCount  Description  Category  Ratio  \\\n",
       "0          1               1                 0            0         1      0   \n",
       "1          1               1                 0            0         1      1   \n",
       "2          1               1                 1            1         1      3   \n",
       "3          1               1                 0            1         1      1   \n",
       "4          1               1                 0            1         1      3   \n",
       "\n",
       "   voteButton  License  Populariy  Quality  Information  Total  \n",
       "0           2        1          4        5            2     11  \n",
       "1           1        1          4        3            2      9  \n",
       "2           2        1          7        6            3     16  \n",
       "3           2        1          5        3            3     11  \n",
       "4           2        1          7        3            3     13  "
      ]
     },
     "execution_count": 196,
     "metadata": {},
     "output_type": "execute_result"
    }
   ],
   "source": [
    "new_data.head()"
   ]
  },
  {
   "cell_type": "code",
   "execution_count": 197,
   "metadata": {},
   "outputs": [],
   "source": [
    "new_data.to_csv(\"classification.csv\")"
   ]
  },
  {
   "cell_type": "code",
   "execution_count": null,
   "metadata": {},
   "outputs": [],
   "source": []
  }
 ],
 "metadata": {
  "kernelspec": {
   "display_name": "Python 3",
   "language": "python",
   "name": "python3"
  },
  "language_info": {
   "codemirror_mode": {
    "name": "ipython",
    "version": 3
   },
   "file_extension": ".py",
   "mimetype": "text/x-python",
   "name": "python",
   "nbconvert_exporter": "python",
   "pygments_lexer": "ipython3",
   "version": "3.7.1"
  }
 },
 "nbformat": 4,
 "nbformat_minor": 2
}
