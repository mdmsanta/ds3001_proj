{
 "cells": [
  {
   "cell_type": "code",
   "execution_count": 1,
   "metadata": {},
   "outputs": [],
   "source": [
    "import numpy as np\n",
    "import pandas as pd\n",
    "import matplotlib.pyplot as plt\n",
    "import math\n",
    "import sklearn\n",
    "from sklearn import tree \n",
    "from sklearn import preprocessing\n",
    "%matplotlib inline "
   ]
  },
  {
   "cell_type": "code",
   "execution_count": 2,
   "metadata": {},
   "outputs": [],
   "source": [
    "data = pd.read_csv(\"all_kaggle_datasets.csv\")"
   ]
  },
  {
   "cell_type": "code",
   "execution_count": 3,
   "metadata": {},
   "outputs": [
    {
     "data": {
      "text/html": [
       "<div>\n",
       "<style scoped>\n",
       "    .dataframe tbody tr th:only-of-type {\n",
       "        vertical-align: middle;\n",
       "    }\n",
       "\n",
       "    .dataframe tbody tr th {\n",
       "        vertical-align: top;\n",
       "    }\n",
       "\n",
       "    .dataframe thead th {\n",
       "        text-align: right;\n",
       "    }\n",
       "</style>\n",
       "<table border=\"1\" class=\"dataframe\">\n",
       "  <thead>\n",
       "    <tr style=\"text-align: right;\">\n",
       "      <th></th>\n",
       "      <th>categories</th>\n",
       "      <th>commonFileTypes</th>\n",
       "      <th>creatorName</th>\n",
       "      <th>creatorUrl</th>\n",
       "      <th>creatorUserId</th>\n",
       "      <th>currentDatasetVersionId</th>\n",
       "      <th>currentDatasetVersionNumber</th>\n",
       "      <th>datasetId</th>\n",
       "      <th>datasetSize</th>\n",
       "      <th>datasetUrl</th>\n",
       "      <th>...</th>\n",
       "      <th>ownerUrl</th>\n",
       "      <th>ownerUserId</th>\n",
       "      <th>scriptCount</th>\n",
       "      <th>scriptsUrl</th>\n",
       "      <th>thumbnailImageUrl</th>\n",
       "      <th>title</th>\n",
       "      <th>topicCount</th>\n",
       "      <th>type</th>\n",
       "      <th>viewCount</th>\n",
       "      <th>voteButton</th>\n",
       "    </tr>\n",
       "  </thead>\n",
       "  <tbody>\n",
       "    <tr>\n",
       "      <th>0</th>\n",
       "      <td>{'categories': [{'id': 13213, 'name': 'survey ...</td>\n",
       "      <td>[{'fileType': 'csv', 'count': 3, 'totalSize': ...</td>\n",
       "      <td>Paul Mooney</td>\n",
       "      <td>/paultimothymooney</td>\n",
       "      <td>1314380</td>\n",
       "      <td>161079</td>\n",
       "      <td>5</td>\n",
       "      <td>70947</td>\n",
       "      <td>4043536</td>\n",
       "      <td>/kaggle/kaggle-survey-2018</td>\n",
       "      <td>...</td>\n",
       "      <td>/kaggle</td>\n",
       "      <td>NaN</td>\n",
       "      <td>190</td>\n",
       "      <td>/kaggle/kaggle-survey-2018/kernels</td>\n",
       "      <td>https://storage.googleapis.com/kaggle-datasets...</td>\n",
       "      <td>2018 Kaggle ML &amp; DS Survey Challenge</td>\n",
       "      <td>12</td>\n",
       "      <td>fileset</td>\n",
       "      <td>274306</td>\n",
       "      <td>{'totalVotes': 678, 'hasAlreadyVotedUp': False...</td>\n",
       "    </tr>\n",
       "    <tr>\n",
       "      <th>1</th>\n",
       "      <td>{'categories': [{'id': 13205, 'name': 'text mi...</td>\n",
       "      <td>[{'fileType': 'other', 'count': 20, 'totalSize...</td>\n",
       "      <td>Jason King</td>\n",
       "      <td>/jkkphys</td>\n",
       "      <td>459483</td>\n",
       "      <td>194523</td>\n",
       "      <td>1</td>\n",
       "      <td>83790</td>\n",
       "      <td>968989653</td>\n",
       "      <td>/jkkphys/english-wikipedia-articles-20170820-m...</td>\n",
       "      <td>...</td>\n",
       "      <td>/jkkphys</td>\n",
       "      <td>459483.0</td>\n",
       "      <td>11</td>\n",
       "      <td>/jkkphys/english-wikipedia-articles-20170820-m...</td>\n",
       "      <td>https://storage.googleapis.com/kaggle-datasets...</td>\n",
       "      <td>English Wikipedia Articles 2017-08-20 Models</td>\n",
       "      <td>0</td>\n",
       "      <td>fileset</td>\n",
       "      <td>176</td>\n",
       "      <td>{'totalVotes': 2, 'hasAlreadyVotedUp': False, ...</td>\n",
       "    </tr>\n",
       "    <tr>\n",
       "      <th>2</th>\n",
       "      <td>{'categories': [{'id': 11102, 'name': 'busines...</td>\n",
       "      <td>[{'fileType': 'csv', 'count': 1, 'totalSize': ...</td>\n",
       "      <td>Mehdi Dagdoug</td>\n",
       "      <td>/mehdidag</td>\n",
       "      <td>1227281</td>\n",
       "      <td>59109</td>\n",
       "      <td>1</td>\n",
       "      <td>38809</td>\n",
       "      <td>5621145</td>\n",
       "      <td>/mehdidag/black-friday</td>\n",
       "      <td>...</td>\n",
       "      <td>/mehdidag</td>\n",
       "      <td>1227281.0</td>\n",
       "      <td>40</td>\n",
       "      <td>/mehdidag/black-friday/kernels</td>\n",
       "      <td>https://storage.googleapis.com/kaggle-datasets...</td>\n",
       "      <td>Black Friday</td>\n",
       "      <td>4</td>\n",
       "      <td>fileset</td>\n",
       "      <td>80770</td>\n",
       "      <td>{'totalVotes': 298, 'hasAlreadyVotedUp': False...</td>\n",
       "    </tr>\n",
       "    <tr>\n",
       "      <th>3</th>\n",
       "      <td>{'categories': [{'id': 1209, 'name': 'governme...</td>\n",
       "      <td>[{'fileType': 'other', 'count': 1, 'totalSize'...</td>\n",
       "      <td>Chris Crawford</td>\n",
       "      <td>/crawford</td>\n",
       "      <td>484516</td>\n",
       "      <td>150301</td>\n",
       "      <td>18</td>\n",
       "      <td>45286</td>\n",
       "      <td>45177047</td>\n",
       "      <td>/center-for-policing-equity/data-science-for-good</td>\n",
       "      <td>...</td>\n",
       "      <td>/center-for-policing-equity</td>\n",
       "      <td>NaN</td>\n",
       "      <td>54</td>\n",
       "      <td>/center-for-policing-equity/data-science-for-g...</td>\n",
       "      <td>https://storage.googleapis.com/kaggle-datasets...</td>\n",
       "      <td>Data Science for Good: Center for Policing Equity</td>\n",
       "      <td>27</td>\n",
       "      <td>fileset</td>\n",
       "      <td>52192</td>\n",
       "      <td>{'totalVotes': 282, 'hasAlreadyVotedUp': False...</td>\n",
       "    </tr>\n",
       "    <tr>\n",
       "      <th>4</th>\n",
       "      <td>{'categories': [{'id': 2200, 'name': 'arts and...</td>\n",
       "      <td>[{'fileType': 'other', 'count': 2, 'totalSize'...</td>\n",
       "      <td>Danil</td>\n",
       "      <td>/thedownhill</td>\n",
       "      <td>1914606</td>\n",
       "      <td>36285</td>\n",
       "      <td>2</td>\n",
       "      <td>28335</td>\n",
       "      <td>609430422</td>\n",
       "      <td>/thedownhill/art-images-drawings-painting-scul...</td>\n",
       "      <td>...</td>\n",
       "      <td>/thedownhill</td>\n",
       "      <td>1914606.0</td>\n",
       "      <td>5</td>\n",
       "      <td>/thedownhill/art-images-drawings-painting-scul...</td>\n",
       "      <td>https://storage.googleapis.com/kaggle-datasets...</td>\n",
       "      <td>Art Images: Drawing/Painting/Sculptures/Engrav...</td>\n",
       "      <td>0</td>\n",
       "      <td>fileset</td>\n",
       "      <td>4086</td>\n",
       "      <td>{'totalVotes': 42, 'hasAlreadyVotedUp': False,...</td>\n",
       "    </tr>\n",
       "  </tbody>\n",
       "</table>\n",
       "<p>5 rows × 37 columns</p>\n",
       "</div>"
      ],
      "text/plain": [
       "                                          categories  \\\n",
       "0  {'categories': [{'id': 13213, 'name': 'survey ...   \n",
       "1  {'categories': [{'id': 13205, 'name': 'text mi...   \n",
       "2  {'categories': [{'id': 11102, 'name': 'busines...   \n",
       "3  {'categories': [{'id': 1209, 'name': 'governme...   \n",
       "4  {'categories': [{'id': 2200, 'name': 'arts and...   \n",
       "\n",
       "                                     commonFileTypes     creatorName  \\\n",
       "0  [{'fileType': 'csv', 'count': 3, 'totalSize': ...     Paul Mooney   \n",
       "1  [{'fileType': 'other', 'count': 20, 'totalSize...      Jason King   \n",
       "2  [{'fileType': 'csv', 'count': 1, 'totalSize': ...   Mehdi Dagdoug   \n",
       "3  [{'fileType': 'other', 'count': 1, 'totalSize'...  Chris Crawford   \n",
       "4  [{'fileType': 'other', 'count': 2, 'totalSize'...           Danil   \n",
       "\n",
       "           creatorUrl  creatorUserId  currentDatasetVersionId  \\\n",
       "0  /paultimothymooney        1314380                   161079   \n",
       "1            /jkkphys         459483                   194523   \n",
       "2           /mehdidag        1227281                    59109   \n",
       "3           /crawford         484516                   150301   \n",
       "4        /thedownhill        1914606                    36285   \n",
       "\n",
       "   currentDatasetVersionNumber  datasetId  datasetSize  \\\n",
       "0                            5      70947      4043536   \n",
       "1                            1      83790    968989653   \n",
       "2                            1      38809      5621145   \n",
       "3                           18      45286     45177047   \n",
       "4                            2      28335    609430422   \n",
       "\n",
       "                                          datasetUrl  \\\n",
       "0                         /kaggle/kaggle-survey-2018   \n",
       "1  /jkkphys/english-wikipedia-articles-20170820-m...   \n",
       "2                             /mehdidag/black-friday   \n",
       "3  /center-for-policing-equity/data-science-for-good   \n",
       "4  /thedownhill/art-images-drawings-painting-scul...   \n",
       "\n",
       "                         ...                          \\\n",
       "0                        ...                           \n",
       "1                        ...                           \n",
       "2                        ...                           \n",
       "3                        ...                           \n",
       "4                        ...                           \n",
       "\n",
       "                      ownerUrl ownerUserId  scriptCount  \\\n",
       "0                      /kaggle         NaN          190   \n",
       "1                     /jkkphys    459483.0           11   \n",
       "2                    /mehdidag   1227281.0           40   \n",
       "3  /center-for-policing-equity         NaN           54   \n",
       "4                 /thedownhill   1914606.0            5   \n",
       "\n",
       "                                          scriptsUrl  \\\n",
       "0                 /kaggle/kaggle-survey-2018/kernels   \n",
       "1  /jkkphys/english-wikipedia-articles-20170820-m...   \n",
       "2                     /mehdidag/black-friday/kernels   \n",
       "3  /center-for-policing-equity/data-science-for-g...   \n",
       "4  /thedownhill/art-images-drawings-painting-scul...   \n",
       "\n",
       "                                   thumbnailImageUrl  \\\n",
       "0  https://storage.googleapis.com/kaggle-datasets...   \n",
       "1  https://storage.googleapis.com/kaggle-datasets...   \n",
       "2  https://storage.googleapis.com/kaggle-datasets...   \n",
       "3  https://storage.googleapis.com/kaggle-datasets...   \n",
       "4  https://storage.googleapis.com/kaggle-datasets...   \n",
       "\n",
       "                                               title  topicCount     type  \\\n",
       "0               2018 Kaggle ML & DS Survey Challenge          12  fileset   \n",
       "1       English Wikipedia Articles 2017-08-20 Models           0  fileset   \n",
       "2                                       Black Friday           4  fileset   \n",
       "3  Data Science for Good: Center for Policing Equity          27  fileset   \n",
       "4  Art Images: Drawing/Painting/Sculptures/Engrav...           0  fileset   \n",
       "\n",
       "   viewCount                                         voteButton  \n",
       "0     274306  {'totalVotes': 678, 'hasAlreadyVotedUp': False...  \n",
       "1        176  {'totalVotes': 2, 'hasAlreadyVotedUp': False, ...  \n",
       "2      80770  {'totalVotes': 298, 'hasAlreadyVotedUp': False...  \n",
       "3      52192  {'totalVotes': 282, 'hasAlreadyVotedUp': False...  \n",
       "4       4086  {'totalVotes': 42, 'hasAlreadyVotedUp': False,...  \n",
       "\n",
       "[5 rows x 37 columns]"
      ]
     },
     "execution_count": 3,
     "metadata": {},
     "output_type": "execute_result"
    }
   ],
   "source": [
    "data.head()"
   ]
  },
  {
   "cell_type": "markdown",
   "metadata": {},
   "source": [
    "Cleaning the variabes!"
   ]
  },
  {
   "cell_type": "code",
   "execution_count": 4,
   "metadata": {},
   "outputs": [],
   "source": [
    "gettingvotes = data.voteButton.str.split(\":\",n=1,expand=True)\n",
    "gettingvotes = gettingvotes[1]\n",
    "gettingvotes = gettingvotes.str.split(\",\",n=1, expand =True)\n",
    "votes = gettingvotes[0]"
   ]
  },
  {
   "cell_type": "code",
   "execution_count": 5,
   "metadata": {},
   "outputs": [],
   "source": [
    "data.voteButton = votes"
   ]
  },
  {
   "cell_type": "code",
   "execution_count": 7,
   "metadata": {},
   "outputs": [
    {
     "data": {
      "text/html": [
       "<div>\n",
       "<style scoped>\n",
       "    .dataframe tbody tr th:only-of-type {\n",
       "        vertical-align: middle;\n",
       "    }\n",
       "\n",
       "    .dataframe tbody tr th {\n",
       "        vertical-align: top;\n",
       "    }\n",
       "\n",
       "    .dataframe thead th {\n",
       "        text-align: right;\n",
       "    }\n",
       "</style>\n",
       "<table border=\"1\" class=\"dataframe\">\n",
       "  <thead>\n",
       "    <tr style=\"text-align: right;\">\n",
       "      <th></th>\n",
       "      <th>categories</th>\n",
       "      <th>commonFileTypes</th>\n",
       "      <th>creatorName</th>\n",
       "      <th>creatorUrl</th>\n",
       "      <th>creatorUserId</th>\n",
       "      <th>currentDatasetVersionId</th>\n",
       "      <th>currentDatasetVersionNumber</th>\n",
       "      <th>datasetId</th>\n",
       "      <th>datasetSize</th>\n",
       "      <th>datasetUrl</th>\n",
       "      <th>...</th>\n",
       "      <th>ownerUrl</th>\n",
       "      <th>ownerUserId</th>\n",
       "      <th>scriptCount</th>\n",
       "      <th>scriptsUrl</th>\n",
       "      <th>thumbnailImageUrl</th>\n",
       "      <th>title</th>\n",
       "      <th>topicCount</th>\n",
       "      <th>type</th>\n",
       "      <th>viewCount</th>\n",
       "      <th>voteButton</th>\n",
       "    </tr>\n",
       "  </thead>\n",
       "  <tbody>\n",
       "    <tr>\n",
       "      <th>0</th>\n",
       "      <td>{'categories': [{'id': 13213, 'name': 'survey ...</td>\n",
       "      <td>[{'fileType': 'csv', 'count': 3, 'totalSize': ...</td>\n",
       "      <td>Paul Mooney</td>\n",
       "      <td>/paultimothymooney</td>\n",
       "      <td>1314380</td>\n",
       "      <td>161079</td>\n",
       "      <td>5</td>\n",
       "      <td>70947</td>\n",
       "      <td>4043536</td>\n",
       "      <td>/kaggle/kaggle-survey-2018</td>\n",
       "      <td>...</td>\n",
       "      <td>/kaggle</td>\n",
       "      <td>NaN</td>\n",
       "      <td>190</td>\n",
       "      <td>/kaggle/kaggle-survey-2018/kernels</td>\n",
       "      <td>https://storage.googleapis.com/kaggle-datasets...</td>\n",
       "      <td>2018 Kaggle ML &amp; DS Survey Challenge</td>\n",
       "      <td>12</td>\n",
       "      <td>fileset</td>\n",
       "      <td>274306</td>\n",
       "      <td>678</td>\n",
       "    </tr>\n",
       "    <tr>\n",
       "      <th>1</th>\n",
       "      <td>{'categories': [{'id': 13205, 'name': 'text mi...</td>\n",
       "      <td>[{'fileType': 'other', 'count': 20, 'totalSize...</td>\n",
       "      <td>Jason King</td>\n",
       "      <td>/jkkphys</td>\n",
       "      <td>459483</td>\n",
       "      <td>194523</td>\n",
       "      <td>1</td>\n",
       "      <td>83790</td>\n",
       "      <td>968989653</td>\n",
       "      <td>/jkkphys/english-wikipedia-articles-20170820-m...</td>\n",
       "      <td>...</td>\n",
       "      <td>/jkkphys</td>\n",
       "      <td>459483.0</td>\n",
       "      <td>11</td>\n",
       "      <td>/jkkphys/english-wikipedia-articles-20170820-m...</td>\n",
       "      <td>https://storage.googleapis.com/kaggle-datasets...</td>\n",
       "      <td>English Wikipedia Articles 2017-08-20 Models</td>\n",
       "      <td>0</td>\n",
       "      <td>fileset</td>\n",
       "      <td>176</td>\n",
       "      <td>2</td>\n",
       "    </tr>\n",
       "    <tr>\n",
       "      <th>2</th>\n",
       "      <td>{'categories': [{'id': 11102, 'name': 'busines...</td>\n",
       "      <td>[{'fileType': 'csv', 'count': 1, 'totalSize': ...</td>\n",
       "      <td>Mehdi Dagdoug</td>\n",
       "      <td>/mehdidag</td>\n",
       "      <td>1227281</td>\n",
       "      <td>59109</td>\n",
       "      <td>1</td>\n",
       "      <td>38809</td>\n",
       "      <td>5621145</td>\n",
       "      <td>/mehdidag/black-friday</td>\n",
       "      <td>...</td>\n",
       "      <td>/mehdidag</td>\n",
       "      <td>1227281.0</td>\n",
       "      <td>40</td>\n",
       "      <td>/mehdidag/black-friday/kernels</td>\n",
       "      <td>https://storage.googleapis.com/kaggle-datasets...</td>\n",
       "      <td>Black Friday</td>\n",
       "      <td>4</td>\n",
       "      <td>fileset</td>\n",
       "      <td>80770</td>\n",
       "      <td>298</td>\n",
       "    </tr>\n",
       "    <tr>\n",
       "      <th>3</th>\n",
       "      <td>{'categories': [{'id': 1209, 'name': 'governme...</td>\n",
       "      <td>[{'fileType': 'other', 'count': 1, 'totalSize'...</td>\n",
       "      <td>Chris Crawford</td>\n",
       "      <td>/crawford</td>\n",
       "      <td>484516</td>\n",
       "      <td>150301</td>\n",
       "      <td>18</td>\n",
       "      <td>45286</td>\n",
       "      <td>45177047</td>\n",
       "      <td>/center-for-policing-equity/data-science-for-good</td>\n",
       "      <td>...</td>\n",
       "      <td>/center-for-policing-equity</td>\n",
       "      <td>NaN</td>\n",
       "      <td>54</td>\n",
       "      <td>/center-for-policing-equity/data-science-for-g...</td>\n",
       "      <td>https://storage.googleapis.com/kaggle-datasets...</td>\n",
       "      <td>Data Science for Good: Center for Policing Equity</td>\n",
       "      <td>27</td>\n",
       "      <td>fileset</td>\n",
       "      <td>52192</td>\n",
       "      <td>282</td>\n",
       "    </tr>\n",
       "    <tr>\n",
       "      <th>4</th>\n",
       "      <td>{'categories': [{'id': 2200, 'name': 'arts and...</td>\n",
       "      <td>[{'fileType': 'other', 'count': 2, 'totalSize'...</td>\n",
       "      <td>Danil</td>\n",
       "      <td>/thedownhill</td>\n",
       "      <td>1914606</td>\n",
       "      <td>36285</td>\n",
       "      <td>2</td>\n",
       "      <td>28335</td>\n",
       "      <td>609430422</td>\n",
       "      <td>/thedownhill/art-images-drawings-painting-scul...</td>\n",
       "      <td>...</td>\n",
       "      <td>/thedownhill</td>\n",
       "      <td>1914606.0</td>\n",
       "      <td>5</td>\n",
       "      <td>/thedownhill/art-images-drawings-painting-scul...</td>\n",
       "      <td>https://storage.googleapis.com/kaggle-datasets...</td>\n",
       "      <td>Art Images: Drawing/Painting/Sculptures/Engrav...</td>\n",
       "      <td>0</td>\n",
       "      <td>fileset</td>\n",
       "      <td>4086</td>\n",
       "      <td>42</td>\n",
       "    </tr>\n",
       "  </tbody>\n",
       "</table>\n",
       "<p>5 rows × 37 columns</p>\n",
       "</div>"
      ],
      "text/plain": [
       "                                          categories  \\\n",
       "0  {'categories': [{'id': 13213, 'name': 'survey ...   \n",
       "1  {'categories': [{'id': 13205, 'name': 'text mi...   \n",
       "2  {'categories': [{'id': 11102, 'name': 'busines...   \n",
       "3  {'categories': [{'id': 1209, 'name': 'governme...   \n",
       "4  {'categories': [{'id': 2200, 'name': 'arts and...   \n",
       "\n",
       "                                     commonFileTypes     creatorName  \\\n",
       "0  [{'fileType': 'csv', 'count': 3, 'totalSize': ...     Paul Mooney   \n",
       "1  [{'fileType': 'other', 'count': 20, 'totalSize...      Jason King   \n",
       "2  [{'fileType': 'csv', 'count': 1, 'totalSize': ...   Mehdi Dagdoug   \n",
       "3  [{'fileType': 'other', 'count': 1, 'totalSize'...  Chris Crawford   \n",
       "4  [{'fileType': 'other', 'count': 2, 'totalSize'...           Danil   \n",
       "\n",
       "           creatorUrl  creatorUserId  currentDatasetVersionId  \\\n",
       "0  /paultimothymooney        1314380                   161079   \n",
       "1            /jkkphys         459483                   194523   \n",
       "2           /mehdidag        1227281                    59109   \n",
       "3           /crawford         484516                   150301   \n",
       "4        /thedownhill        1914606                    36285   \n",
       "\n",
       "   currentDatasetVersionNumber  datasetId  datasetSize  \\\n",
       "0                            5      70947      4043536   \n",
       "1                            1      83790    968989653   \n",
       "2                            1      38809      5621145   \n",
       "3                           18      45286     45177047   \n",
       "4                            2      28335    609430422   \n",
       "\n",
       "                                          datasetUrl     ...      \\\n",
       "0                         /kaggle/kaggle-survey-2018     ...       \n",
       "1  /jkkphys/english-wikipedia-articles-20170820-m...     ...       \n",
       "2                             /mehdidag/black-friday     ...       \n",
       "3  /center-for-policing-equity/data-science-for-good     ...       \n",
       "4  /thedownhill/art-images-drawings-painting-scul...     ...       \n",
       "\n",
       "                      ownerUrl ownerUserId  scriptCount  \\\n",
       "0                      /kaggle         NaN          190   \n",
       "1                     /jkkphys    459483.0           11   \n",
       "2                    /mehdidag   1227281.0           40   \n",
       "3  /center-for-policing-equity         NaN           54   \n",
       "4                 /thedownhill   1914606.0            5   \n",
       "\n",
       "                                          scriptsUrl  \\\n",
       "0                 /kaggle/kaggle-survey-2018/kernels   \n",
       "1  /jkkphys/english-wikipedia-articles-20170820-m...   \n",
       "2                     /mehdidag/black-friday/kernels   \n",
       "3  /center-for-policing-equity/data-science-for-g...   \n",
       "4  /thedownhill/art-images-drawings-painting-scul...   \n",
       "\n",
       "                                   thumbnailImageUrl  \\\n",
       "0  https://storage.googleapis.com/kaggle-datasets...   \n",
       "1  https://storage.googleapis.com/kaggle-datasets...   \n",
       "2  https://storage.googleapis.com/kaggle-datasets...   \n",
       "3  https://storage.googleapis.com/kaggle-datasets...   \n",
       "4  https://storage.googleapis.com/kaggle-datasets...   \n",
       "\n",
       "                                               title  topicCount     type  \\\n",
       "0               2018 Kaggle ML & DS Survey Challenge          12  fileset   \n",
       "1       English Wikipedia Articles 2017-08-20 Models           0  fileset   \n",
       "2                                       Black Friday           4  fileset   \n",
       "3  Data Science for Good: Center for Policing Equity          27  fileset   \n",
       "4  Art Images: Drawing/Painting/Sculptures/Engrav...           0  fileset   \n",
       "\n",
       "   viewCount  voteButton  \n",
       "0     274306         678  \n",
       "1        176           2  \n",
       "2      80770         298  \n",
       "3      52192         282  \n",
       "4       4086          42  \n",
       "\n",
       "[5 rows x 37 columns]"
      ]
     },
     "execution_count": 7,
     "metadata": {},
     "output_type": "execute_result"
    }
   ],
   "source": [
    "data.head()"
   ]
  },
  {
   "cell_type": "code",
   "execution_count": 8,
   "metadata": {},
   "outputs": [
    {
     "name": "stdout",
     "output_type": "stream",
     "text": [
      "Index(['categories', 'commonFileTypes', 'creatorName', 'creatorUrl',\n",
      "       'creatorUserId', 'currentDatasetVersionId',\n",
      "       'currentDatasetVersionNumber', 'datasetId', 'datasetSize', 'datasetUrl',\n",
      "       'dateUpdated', 'diffType', 'downloadCount', 'forumUrl',\n",
      "       'isCollaborator', 'isDeleted', 'isFailed', 'isFeatured', 'isHidden',\n",
      "       'isPrivate', 'isSuperFeatured', 'licenseName', 'licenseShortName',\n",
      "       'maintainerOrganization', 'overview', 'ownerAvatarUrl', 'ownerName',\n",
      "       'ownerUrl', 'ownerUserId', 'scriptCount', 'scriptsUrl',\n",
      "       'thumbnailImageUrl', 'title', 'topicCount', 'type', 'viewCount',\n",
      "       'voteButton'],\n",
      "      dtype='object')\n"
     ]
    }
   ],
   "source": [
    "print(data.columns)"
   ]
  },
  {
   "cell_type": "code",
   "execution_count": 9,
   "metadata": {},
   "outputs": [],
   "source": [
    "data = data.drop(columns= [\"thumbnailImageUrl\",\"ownerAvatarUrl\",\"ownerUrl\",\"creatorUrl\",\"ownerUserId\",\"datasetUrl\",\"forumUrl\",\"scriptsUrl\",\"maintainerOrganization\"])"
   ]
  },
  {
   "cell_type": "code",
   "execution_count": 10,
   "metadata": {},
   "outputs": [],
   "source": [
    "getting_time_and_date = data.dateUpdated.str.split(\"T\",n=1,expand=True)\n",
    "date = getting_time_and_date[0]"
   ]
  },
  {
   "cell_type": "code",
   "execution_count": 11,
   "metadata": {},
   "outputs": [],
   "source": [
    "data.dateUpdated = date"
   ]
  },
  {
   "cell_type": "code",
   "execution_count": 12,
   "metadata": {},
   "outputs": [
    {
     "name": "stdout",
     "output_type": "stream",
     "text": [
      "Index(['categories', 'commonFileTypes', 'creatorName', 'creatorUserId',\n",
      "       'currentDatasetVersionId', 'currentDatasetVersionNumber', 'datasetId',\n",
      "       'datasetSize', 'dateUpdated', 'diffType', 'downloadCount',\n",
      "       'isCollaborator', 'isDeleted', 'isFailed', 'isFeatured', 'isHidden',\n",
      "       'isPrivate', 'isSuperFeatured', 'licenseName', 'licenseShortName',\n",
      "       'overview', 'ownerName', 'scriptCount', 'title', 'topicCount', 'type',\n",
      "       'viewCount', 'voteButton'],\n",
      "      dtype='object')\n"
     ]
    }
   ],
   "source": [
    "print(data.columns)"
   ]
  },
  {
   "cell_type": "code",
   "execution_count": 13,
   "metadata": {},
   "outputs": [
    {
     "name": "stdout",
     "output_type": "stream",
     "text": [
      "[{'fileType': 'csv', 'count': 3, 'totalSize': 42559129}]\n",
      "4043536\n"
     ]
    }
   ],
   "source": [
    "print(data.commonFileTypes[0])\n",
    "print(data.datasetSize[0])"
   ]
  },
  {
   "cell_type": "code",
   "execution_count": 14,
   "metadata": {},
   "outputs": [],
   "source": [
    "file_type = data.commonFileTypes.str.split(\":\",n=1,expand = True)\n",
    "file_type  = file_type[1]\n",
    "file_type = file_type.str.split(\",\",n=1, expand=True)\n",
    "file_type[0]\n",
    "data.commonFileTypes = file_type"
   ]
  },
  {
   "cell_type": "code",
   "execution_count": 15,
   "metadata": {
    "scrolled": true
   },
   "outputs": [
    {
     "data": {
      "text/html": [
       "<div>\n",
       "<style scoped>\n",
       "    .dataframe tbody tr th:only-of-type {\n",
       "        vertical-align: middle;\n",
       "    }\n",
       "\n",
       "    .dataframe tbody tr th {\n",
       "        vertical-align: top;\n",
       "    }\n",
       "\n",
       "    .dataframe thead th {\n",
       "        text-align: right;\n",
       "    }\n",
       "</style>\n",
       "<table border=\"1\" class=\"dataframe\">\n",
       "  <thead>\n",
       "    <tr style=\"text-align: right;\">\n",
       "      <th></th>\n",
       "      <th>categories</th>\n",
       "      <th>commonFileTypes</th>\n",
       "      <th>creatorName</th>\n",
       "      <th>creatorUserId</th>\n",
       "      <th>currentDatasetVersionId</th>\n",
       "      <th>currentDatasetVersionNumber</th>\n",
       "      <th>datasetId</th>\n",
       "      <th>datasetSize</th>\n",
       "      <th>dateUpdated</th>\n",
       "      <th>diffType</th>\n",
       "      <th>...</th>\n",
       "      <th>licenseName</th>\n",
       "      <th>licenseShortName</th>\n",
       "      <th>overview</th>\n",
       "      <th>ownerName</th>\n",
       "      <th>scriptCount</th>\n",
       "      <th>title</th>\n",
       "      <th>topicCount</th>\n",
       "      <th>type</th>\n",
       "      <th>viewCount</th>\n",
       "      <th>voteButton</th>\n",
       "    </tr>\n",
       "  </thead>\n",
       "  <tbody>\n",
       "    <tr>\n",
       "      <th>0</th>\n",
       "      <td>{'categories': [{'id': 13213, 'name': 'survey ...</td>\n",
       "      <td>'csv'</td>\n",
       "      <td>Paul Mooney</td>\n",
       "      <td>1314380</td>\n",
       "      <td>161079</td>\n",
       "      <td>5</td>\n",
       "      <td>70947</td>\n",
       "      <td>4043536</td>\n",
       "      <td>2018-11-03</td>\n",
       "      <td>unversioned</td>\n",
       "      <td>...</td>\n",
       "      <td>CC BY-SA 4.0</td>\n",
       "      <td>CC4</td>\n",
       "      <td>Explore the 2018 Kaggle ML &amp; Data Science Surv...</td>\n",
       "      <td>Kaggle</td>\n",
       "      <td>190</td>\n",
       "      <td>2018 Kaggle ML &amp; DS Survey Challenge</td>\n",
       "      <td>12</td>\n",
       "      <td>fileset</td>\n",
       "      <td>274306</td>\n",
       "      <td>678</td>\n",
       "    </tr>\n",
       "    <tr>\n",
       "      <th>1</th>\n",
       "      <td>{'categories': [{'id': 13205, 'name': 'text mi...</td>\n",
       "      <td>'other'</td>\n",
       "      <td>Jason King</td>\n",
       "      <td>459483</td>\n",
       "      <td>194523</td>\n",
       "      <td>1</td>\n",
       "      <td>83790</td>\n",
       "      <td>968989653</td>\n",
       "      <td>2018-11-28</td>\n",
       "      <td>versioned</td>\n",
       "      <td>...</td>\n",
       "      <td>CC BY-SA 3.0</td>\n",
       "      <td>CC3</td>\n",
       "      <td>Gensim models trained on English Wikipedia Art...</td>\n",
       "      <td>Jason King</td>\n",
       "      <td>11</td>\n",
       "      <td>English Wikipedia Articles 2017-08-20 Models</td>\n",
       "      <td>0</td>\n",
       "      <td>fileset</td>\n",
       "      <td>176</td>\n",
       "      <td>2</td>\n",
       "    </tr>\n",
       "    <tr>\n",
       "      <th>2</th>\n",
       "      <td>{'categories': [{'id': 11102, 'name': 'busines...</td>\n",
       "      <td>'csv'</td>\n",
       "      <td>Mehdi Dagdoug</td>\n",
       "      <td>1227281</td>\n",
       "      <td>59109</td>\n",
       "      <td>1</td>\n",
       "      <td>38809</td>\n",
       "      <td>5621145</td>\n",
       "      <td>2018-07-25</td>\n",
       "      <td>versioned</td>\n",
       "      <td>...</td>\n",
       "      <td>CC0: Public Domain</td>\n",
       "      <td>CC0</td>\n",
       "      <td>A study of sales trough consumer behaviours</td>\n",
       "      <td>Mehdi Dagdoug</td>\n",
       "      <td>40</td>\n",
       "      <td>Black Friday</td>\n",
       "      <td>4</td>\n",
       "      <td>fileset</td>\n",
       "      <td>80770</td>\n",
       "      <td>298</td>\n",
       "    </tr>\n",
       "    <tr>\n",
       "      <th>3</th>\n",
       "      <td>{'categories': [{'id': 1209, 'name': 'governme...</td>\n",
       "      <td>'other'</td>\n",
       "      <td>Chris Crawford</td>\n",
       "      <td>484516</td>\n",
       "      <td>150301</td>\n",
       "      <td>18</td>\n",
       "      <td>45286</td>\n",
       "      <td>45177047</td>\n",
       "      <td>2018-10-29</td>\n",
       "      <td>unversioned</td>\n",
       "      <td>...</td>\n",
       "      <td>CC0: Public Domain</td>\n",
       "      <td>CC0</td>\n",
       "      <td>How do you measure justice?</td>\n",
       "      <td>Center for Policing Equity</td>\n",
       "      <td>54</td>\n",
       "      <td>Data Science for Good: Center for Policing Equity</td>\n",
       "      <td>27</td>\n",
       "      <td>fileset</td>\n",
       "      <td>52192</td>\n",
       "      <td>282</td>\n",
       "    </tr>\n",
       "    <tr>\n",
       "      <th>4</th>\n",
       "      <td>{'categories': [{'id': 2200, 'name': 'arts and...</td>\n",
       "      <td>'other'</td>\n",
       "      <td>Danil</td>\n",
       "      <td>1914606</td>\n",
       "      <td>36285</td>\n",
       "      <td>2</td>\n",
       "      <td>28335</td>\n",
       "      <td>609430422</td>\n",
       "      <td>2018-05-25</td>\n",
       "      <td>versioned</td>\n",
       "      <td>...</td>\n",
       "      <td>Database: Open Database, Contents: © Original ...</td>\n",
       "      <td>ODbL</td>\n",
       "      <td>Dataset with about 9000 images containing 5 ty...</td>\n",
       "      <td>Danil</td>\n",
       "      <td>5</td>\n",
       "      <td>Art Images: Drawing/Painting/Sculptures/Engrav...</td>\n",
       "      <td>0</td>\n",
       "      <td>fileset</td>\n",
       "      <td>4086</td>\n",
       "      <td>42</td>\n",
       "    </tr>\n",
       "  </tbody>\n",
       "</table>\n",
       "<p>5 rows × 28 columns</p>\n",
       "</div>"
      ],
      "text/plain": [
       "                                          categories commonFileTypes  \\\n",
       "0  {'categories': [{'id': 13213, 'name': 'survey ...           'csv'   \n",
       "1  {'categories': [{'id': 13205, 'name': 'text mi...         'other'   \n",
       "2  {'categories': [{'id': 11102, 'name': 'busines...           'csv'   \n",
       "3  {'categories': [{'id': 1209, 'name': 'governme...         'other'   \n",
       "4  {'categories': [{'id': 2200, 'name': 'arts and...         'other'   \n",
       "\n",
       "      creatorName  creatorUserId  currentDatasetVersionId  \\\n",
       "0     Paul Mooney        1314380                   161079   \n",
       "1      Jason King         459483                   194523   \n",
       "2   Mehdi Dagdoug        1227281                    59109   \n",
       "3  Chris Crawford         484516                   150301   \n",
       "4           Danil        1914606                    36285   \n",
       "\n",
       "   currentDatasetVersionNumber  datasetId  datasetSize dateUpdated  \\\n",
       "0                            5      70947      4043536  2018-11-03   \n",
       "1                            1      83790    968989653  2018-11-28   \n",
       "2                            1      38809      5621145  2018-07-25   \n",
       "3                           18      45286     45177047  2018-10-29   \n",
       "4                            2      28335    609430422  2018-05-25   \n",
       "\n",
       "      diffType    ...                                            licenseName  \\\n",
       "0  unversioned    ...                                           CC BY-SA 4.0   \n",
       "1    versioned    ...                                           CC BY-SA 3.0   \n",
       "2    versioned    ...                                     CC0: Public Domain   \n",
       "3  unversioned    ...                                     CC0: Public Domain   \n",
       "4    versioned    ...      Database: Open Database, Contents: © Original ...   \n",
       "\n",
       "   licenseShortName                                           overview  \\\n",
       "0               CC4  Explore the 2018 Kaggle ML & Data Science Surv...   \n",
       "1               CC3  Gensim models trained on English Wikipedia Art...   \n",
       "2               CC0        A study of sales trough consumer behaviours   \n",
       "3               CC0                        How do you measure justice?   \n",
       "4              ODbL  Dataset with about 9000 images containing 5 ty...   \n",
       "\n",
       "                    ownerName  scriptCount  \\\n",
       "0                      Kaggle          190   \n",
       "1                  Jason King           11   \n",
       "2               Mehdi Dagdoug           40   \n",
       "3  Center for Policing Equity           54   \n",
       "4                       Danil            5   \n",
       "\n",
       "                                               title  topicCount     type  \\\n",
       "0               2018 Kaggle ML & DS Survey Challenge          12  fileset   \n",
       "1       English Wikipedia Articles 2017-08-20 Models           0  fileset   \n",
       "2                                       Black Friday           4  fileset   \n",
       "3  Data Science for Good: Center for Policing Equity          27  fileset   \n",
       "4  Art Images: Drawing/Painting/Sculptures/Engrav...           0  fileset   \n",
       "\n",
       "  viewCount voteButton  \n",
       "0    274306        678  \n",
       "1       176          2  \n",
       "2     80770        298  \n",
       "3     52192        282  \n",
       "4      4086         42  \n",
       "\n",
       "[5 rows x 28 columns]"
      ]
     },
     "execution_count": 15,
     "metadata": {},
     "output_type": "execute_result"
    }
   ],
   "source": [
    "data.head()"
   ]
  },
  {
   "cell_type": "code",
   "execution_count": 16,
   "metadata": {},
   "outputs": [
    {
     "name": "stdout",
     "output_type": "stream",
     "text": [
      "{'categories': [{'id': 11102, 'name': 'business', 'fullPath': 'society and social sciences > society > business', 'listingUrl': '/datasets?group=public&tagids=11102', 'description': 'Businesses are organizational entities that drive economic activity. Explore the inner workings of things like HR practices, product sales, and customer happiness in these competitions, kernels, and datasets.', 'isInherited': False, 'datasetCount': 238, 'competitionCount': 1, 'scriptCount': 94, 'totalCount': 333, 'tagUrl': '/tags/business'}, {'id': 13303, 'name': 'regression analysis', 'fullPath': 'machine learning > regression analysis', 'listingUrl': '/datasets?group=public&tagids=13303', 'description': None, 'isInherited': False, 'datasetCount': 41, 'competitionCount': 0, 'scriptCount': 258, 'totalCount': 299, 'tagUrl': '/tags/regression-analysis'}], 'type': 'dataset'}\n"
     ]
    }
   ],
   "source": [
    "print(data.categories[2])"
   ]
  },
  {
   "cell_type": "code",
   "execution_count": 17,
   "metadata": {},
   "outputs": [
    {
     "name": "stdout",
     "output_type": "stream",
     "text": [
      "Index(['categories', 'commonFileTypes', 'creatorName', 'creatorUserId',\n",
      "       'currentDatasetVersionId', 'currentDatasetVersionNumber', 'datasetId',\n",
      "       'datasetSize', 'dateUpdated', 'diffType', 'downloadCount',\n",
      "       'isCollaborator', 'isDeleted', 'isFailed', 'isFeatured', 'isHidden',\n",
      "       'isPrivate', 'isSuperFeatured', 'licenseName', 'licenseShortName',\n",
      "       'overview', 'ownerName', 'scriptCount', 'title', 'topicCount', 'type',\n",
      "       'viewCount', 'voteButton'],\n",
      "      dtype='object')\n"
     ]
    }
   ],
   "source": [
    "print(data.columns)"
   ]
  },
  {
   "cell_type": "code",
   "execution_count": 18,
   "metadata": {},
   "outputs": [],
   "source": [
    "for i in range(0,len(data.isCollaborator)):\n",
    "    if data.isCollaborator[i] == True:\n",
    "        print(data.isCollaborator[i])"
   ]
  },
  {
   "cell_type": "code",
   "execution_count": 19,
   "metadata": {},
   "outputs": [],
   "source": [
    "data  = data.drop(columns  = ['isCollaborator'])"
   ]
  },
  {
   "cell_type": "code",
   "execution_count": 20,
   "metadata": {},
   "outputs": [],
   "source": [
    "for i in range(0,len(data.isDeleted)):\n",
    "    if data.isDeleted[i] == True:\n",
    "        print(data.isDeleted[i])"
   ]
  },
  {
   "cell_type": "code",
   "execution_count": 21,
   "metadata": {},
   "outputs": [],
   "source": [
    "data  = data.drop(columns  = ['isDeleted'])"
   ]
  },
  {
   "cell_type": "code",
   "execution_count": 22,
   "metadata": {},
   "outputs": [],
   "source": [
    "for i in range(0,len(data.isFailed)):\n",
    "    if data.isFailed[i] == True:\n",
    "        print(data.isFailed[i])"
   ]
  },
  {
   "cell_type": "code",
   "execution_count": 23,
   "metadata": {},
   "outputs": [],
   "source": [
    "data  = data.drop(columns  = ['isFailed'])"
   ]
  },
  {
   "cell_type": "code",
   "execution_count": 24,
   "metadata": {},
   "outputs": [
    {
     "data": {
      "text/plain": [
       "Index(['categories', 'commonFileTypes', 'creatorName', 'creatorUserId',\n",
       "       'currentDatasetVersionId', 'currentDatasetVersionNumber', 'datasetId',\n",
       "       'datasetSize', 'dateUpdated', 'diffType', 'downloadCount', 'isFeatured',\n",
       "       'isHidden', 'isPrivate', 'isSuperFeatured', 'licenseName',\n",
       "       'licenseShortName', 'overview', 'ownerName', 'scriptCount', 'title',\n",
       "       'topicCount', 'type', 'viewCount', 'voteButton'],\n",
       "      dtype='object')"
      ]
     },
     "execution_count": 24,
     "metadata": {},
     "output_type": "execute_result"
    }
   ],
   "source": [
    "data.columns"
   ]
  },
  {
   "cell_type": "code",
   "execution_count": 25,
   "metadata": {},
   "outputs": [],
   "source": [
    "for i in range(0,len(data.isHidden)):\n",
    "    if data.isHidden[i] == True:\n",
    "        print(data.isHidden[i])"
   ]
  },
  {
   "cell_type": "code",
   "execution_count": 26,
   "metadata": {},
   "outputs": [],
   "source": [
    "data  = data.drop(columns  = ['isHidden'])"
   ]
  },
  {
   "cell_type": "code",
   "execution_count": 27,
   "metadata": {},
   "outputs": [],
   "source": [
    "for i in range(0,len(data.isPrivate)):\n",
    "    if data.isPrivate[i] == True:\n",
    "        print(data.isPrivate[i])"
   ]
  },
  {
   "cell_type": "code",
   "execution_count": 28,
   "metadata": {},
   "outputs": [],
   "source": [
    "data  = data.drop(columns  = ['isPrivate'])"
   ]
  },
  {
   "cell_type": "code",
   "execution_count": 29,
   "metadata": {},
   "outputs": [],
   "source": [
    "free = ['CC BY-SA 4.0', 'CC BY-SA 3.0','CC0: Public Domain', 'Database: Open Database, Contents: © Original Authors','Database: Open Database, Contents: Database Contents']\n",
    "restricted = ['CC BY-NC-SA 4.0','Data files © Original Authors','GPL 2','World Bank Dataset Terms of Use','Reddit API Terms']"
   ]
  },
  {
   "cell_type": "code",
   "execution_count": 30,
   "metadata": {},
   "outputs": [],
   "source": [
    "arrayforlicensetype = []"
   ]
  },
  {
   "cell_type": "code",
   "execution_count": 31,
   "metadata": {},
   "outputs": [],
   "source": [
    "for i in range(0, len(data.licenseName)):\n",
    "    \n",
    "    if data.licenseName[i] in free:\n",
    "        arrayforlicensetype.append('free')\n",
    "    elif data.licenseName[i] in restricted:\n",
    "        arrayforlicensetype.append('restricted')\n",
    "    elif data.licenseName[i] == \"Unkown\":\n",
    "        arrayforlicensetype.append('unkown')\n",
    "    else:\n",
    "        if \"open data\" in str(data.overview[i]):\n",
    "            arrayforlicensetype.append('free')\n",
    "        else:\n",
    "            arrayforlicensetype.append('unkown')\n"
   ]
  },
  {
   "cell_type": "code",
   "execution_count": 32,
   "metadata": {},
   "outputs": [],
   "source": [
    "# for i in range(0, len(data.licenseName)):\n",
    "#     if data.licenseName[i] == \"Other (specified in description)\":\n",
    "#         print(data.overview[i])"
   ]
  },
  {
   "cell_type": "code",
   "execution_count": 33,
   "metadata": {},
   "outputs": [],
   "source": [
    "data.licenseShortName = arrayforlicensetype"
   ]
  },
  {
   "cell_type": "code",
   "execution_count": 34,
   "metadata": {},
   "outputs": [],
   "source": [
    "data = data.drop(columns = ['licenseName'])"
   ]
  },
  {
   "cell_type": "code",
   "execution_count": 35,
   "metadata": {},
   "outputs": [
    {
     "name": "stdout",
     "output_type": "stream",
     "text": [
      "{'categories': [{'id': 11200, 'name': 'social sciences', 'fullPath': 'society and social sciences > social sciences', 'listingUrl': '/datasets?group=public&tagids=11200', 'description': 'Social science is the collection of disciplines studying how humans interact with each other.', 'isInherited': False, 'datasetCount': 16, 'competitionCount': 0, 'scriptCount': 9, 'totalCount': 25, 'tagUrl': '/tags/social-sciences'}, {'id': 11204, 'name': 'demographics', 'fullPath': 'society and social sciences > social sciences > demographics', 'listingUrl': '/datasets?group=public&tagids=11204', 'description': 'Demographics cover different aspects of life: youth, religion, housing, employment, taxes and mortality. This tag contains census data that describe various populations and communities.', 'isInherited': False, 'datasetCount': 230, 'competitionCount': 1, 'scriptCount': 113, 'totalCount': 344, 'tagUrl': '/tags/demographics'}, {'id': 11215, 'name': 'sociology', 'fullPath': 'society and social sciences > social sciences > sociology', 'listingUrl': '/datasets?group=public&tagids=11215', 'description': 'Sociology is the study of society, including patterns of social relationships, and culture. Why are there so many people in the gym right now? What do young people do with their time? What do people tweet about in the morning?', 'isInherited': False, 'datasetCount': 29, 'competitionCount': 0, 'scriptCount': 3, 'totalCount': 32, 'tagUrl': '/tags/sociology'}, {'id': 11220, 'name': 'mortality', 'fullPath': 'society and social sciences > social sciences > demographics > mortality', 'listingUrl': '/datasets?group=public&tagids=11220', 'description': 'Mortality is the state of being mortal, or susceptible to death; the opposite of immortality.', 'isInherited': False, 'datasetCount': 13, 'competitionCount': 0, 'scriptCount': 6, 'totalCount': 19, 'tagUrl': '/tags/mortality'}], 'type': 'dataset'}\n"
     ]
    }
   ],
   "source": [
    "print(data.categories[5])"
   ]
  },
  {
   "cell_type": "code",
   "execution_count": 36,
   "metadata": {},
   "outputs": [],
   "source": [
    "seperating_categories =  data.categories.str.split(\"'name'\",n=1,expand=True)"
   ]
  },
  {
   "cell_type": "code",
   "execution_count": 37,
   "metadata": {},
   "outputs": [],
   "source": [
    "in_general = seperating_categories[1].str.split(\",\",n=1,expand=True)"
   ]
  },
  {
   "cell_type": "code",
   "execution_count": 38,
   "metadata": {},
   "outputs": [],
   "source": [
    "category = in_general[0].str.split(\" \",n=1,expand=True)\n",
    "more_stuff = in_general[1]\n",
    "category = category[1]"
   ]
  },
  {
   "cell_type": "code",
   "execution_count": 39,
   "metadata": {},
   "outputs": [],
   "source": [
    "in_general =  more_stuff.str.split(\",\",n=1,expand=True)\n",
    "even_more_things  = in_general[1]"
   ]
  },
  {
   "cell_type": "code",
   "execution_count": 40,
   "metadata": {},
   "outputs": [
    {
     "name": "stdout",
     "output_type": "stream",
     "text": [
      "0                             'analysis > survey analysis'\n",
      "1                                 'analysis > text mining'\n",
      "2         'society and social sciences > society > busi...\n",
      "3         'general reference > research tools and topic...\n",
      "4              'culture and arts > arts and entertainment'\n",
      "5          'society and social sciences > social sciences'\n",
      "6              'culture and arts > performing arts > film'\n",
      "7                                                     None\n",
      "8          'geography and places > south america > brazil'\n",
      "9         'general reference > research tools and topic...\n",
      "10        'society and social sciences > society > gove...\n",
      "11        'culture and arts > games and toys > video ga...\n",
      "12        'general reference > research tools and topic...\n",
      "13        'geography and places > north america > unite...\n",
      "14                          'geography and places > world'\n",
      "15                      'machine learning > deep learning'\n",
      "16                                   'audience > beginner'\n",
      "17        'society and social sciences > society > poli...\n",
      "18                                 'initiatives > socrata'\n",
      "19        'society and social sciences > social science...\n",
      "20        'culture and arts > arts and entertainment > ...\n",
      "21         'society and social sciences > society > crime'\n",
      "22        'general reference > research tools and topic...\n",
      "23        'culture and arts > culture and humanities > ...\n",
      "24        'natural and physical sciences > biology > ne...\n",
      "25        'health and fitness > self care > exercise > ...\n",
      "26                        'culture and arts > visual arts'\n",
      "27        'society and social sciences > society > poli...\n",
      "28        'culture and arts > culture and humanities > ...\n",
      "29        'natural and physical sciences > biology > ec...\n",
      "                               ...                        \n",
      "12990                                                 None\n",
      "12991                                                 None\n",
      "12992                                                 None\n",
      "12993                                                 None\n",
      "12994     'society and social sciences > social science...\n",
      "12995                                                 None\n",
      "12996                                                 None\n",
      "12997                                                 None\n",
      "12998                                                 None\n",
      "12999     'society and social sciences > social science...\n",
      "13000     'society and social sciences > social science...\n",
      "13001     'society and social sciences > social science...\n",
      "13002     'society and social sciences > social science...\n",
      "13003     'society and social sciences > social science...\n",
      "13004     'society and social sciences > social science...\n",
      "13005     'society and social sciences > social science...\n",
      "13006     'society and social sciences > social science...\n",
      "13007     'society and social sciences > social science...\n",
      "13008     'society and social sciences > social science...\n",
      "13009     'society and social sciences > social science...\n",
      "13010     'society and social sciences > social science...\n",
      "13011     'society and social sciences > social science...\n",
      "13012     'society and social sciences > social science...\n",
      "13013     'society and social sciences > social science...\n",
      "13014     'society and social sciences > social science...\n",
      "13015     'society and social sciences > social science...\n",
      "13016     'society and social sciences > social science...\n",
      "13017     'society and social sciences > social science...\n",
      "13018                                                 None\n",
      "13019     'society and social sciences > social science...\n",
      "Name: 1, Length: 13020, dtype: object\n"
     ]
    }
   ],
   "source": [
    "full  = in_general[0]\n",
    "full  = full.str.split(\":\", n=1, expand=True)\n",
    "full = full[1]\n",
    "print(full)"
   ]
  },
  {
   "cell_type": "code",
   "execution_count": 41,
   "metadata": {},
   "outputs": [
    {
     "name": "stdout",
     "output_type": "stream",
     "text": [
      "0                                                     None\n",
      "1                                                     None\n",
      "2         'Businesses are organizational entities that ...\n",
      "3         'Datasets and kernels under the government ag...\n",
      "4         \"Activities that holds the attention and inte...\n",
      "5         'Social science is the collection of discipli...\n",
      "6         'Grab a bucket of popcorn and come analyze th...\n",
      "7                                                     None\n",
      "8         \"You don't have to visit Brazil to learn abou...\n",
      "9                                                     None\n",
      "10        'Government related datasets and kernels incl...\n",
      "11        'Video games were originally created to preve...\n",
      "12        \"Research is our endeavor to systematically i...\n",
      "13        'The top datasets and kernels in this tag are...\n",
      "14        \"The kernels and datasets with this tag make ...\n",
      "15                                                    None\n",
      "16                                                    None\n",
      "17        'Politics datasets and kernels cover topics y...\n",
      "18                                                    None\n",
      "19        \"You'll find a variety of datasets and kernel...\n",
      "20        'Find kernels and datasets on jokes in this t...\n",
      "21        'A crime is an unlawful act punishable by a s...\n",
      "22                                                    None\n",
      "23                             \"If you love food and drink\n",
      "24                                           'Neuroscience\n",
      "25        \"Basketball is one of the world's most popula...\n",
      "26        'Visual arts = eye candy. There are datasets ...\n",
      "27        'Politics datasets and kernels cover topics y...\n",
      "28        'Critical Theory is a school of thought that ...\n",
      "29        'Examinations of the various ecologies of the...\n",
      "                               ...                        \n",
      "12990                                                 None\n",
      "12991                                                 None\n",
      "12992                                                 None\n",
      "12993                                                 None\n",
      "12994     'The economics tag contains resources for ana...\n",
      "12995                                                 None\n",
      "12996                                                 None\n",
      "12997                                                 None\n",
      "12998                                                 None\n",
      "12999     'The economics tag contains resources for ana...\n",
      "13000     'The economics tag contains resources for ana...\n",
      "13001     'The economics tag contains resources for ana...\n",
      "13002     'The economics tag contains resources for ana...\n",
      "13003     'The economics tag contains resources for ana...\n",
      "13004     'The economics tag contains resources for ana...\n",
      "13005     'The economics tag contains resources for ana...\n",
      "13006     'The economics tag contains resources for ana...\n",
      "13007     'The economics tag contains resources for ana...\n",
      "13008     'The economics tag contains resources for ana...\n",
      "13009     'The economics tag contains resources for ana...\n",
      "13010     'The economics tag contains resources for ana...\n",
      "13011     'The economics tag contains resources for ana...\n",
      "13012     'The economics tag contains resources for ana...\n",
      "13013     'The economics tag contains resources for ana...\n",
      "13014     'The economics tag contains resources for ana...\n",
      "13015     'The economics tag contains resources for ana...\n",
      "13016     'The economics tag contains resources for ana...\n",
      "13017     'The economics tag contains resources for ana...\n",
      "13018                                                 None\n",
      "13019     'The economics tag contains resources for ana...\n",
      "Name: 0, Length: 13020, dtype: object\n"
     ]
    }
   ],
   "source": [
    "description = even_more_things.str.split(\"'description':\",n=1,expand=True)\n",
    "description = description[1]\n",
    "in_general= description.str.split(\",\",n=1, expand = True)\n",
    "description = in_general[0]\n",
    "in_general = in_general[1]\n",
    "print(description)"
   ]
  },
  {
   "cell_type": "code",
   "execution_count": 42,
   "metadata": {},
   "outputs": [
    {
     "name": "stdout",
     "output_type": "stream",
     "text": [
      "0        Explore the 2018 Kaggle ML & Data Science Surv...\n",
      "1        Gensim models trained on English Wikipedia Art...\n",
      "2              A study of sales trough consumer behaviours\n",
      "3                              How do you measure justice?\n",
      "4        Dataset with about 9000 images containing 5 ty...\n",
      "5        Basic historical (1979-2016) data by country, ...\n",
      "6                     Plot descriptions for ~35,000 movies\n",
      "7        100K+ Scraped Course Reviews from the Coursera...\n",
      "8        100,000 Orders with product, customer and revi...\n",
      "9        Game, team, player and plays information inclu...\n",
      "10                 United States Census (BigQuery Dataset)\n",
      "11       Web scraped data of 10k Play Store apps for an...\n",
      "12       Over 10 years of hourly energy consumption dat...\n",
      "13       Player of the week data from 1984-5 to current...\n",
      "14               The Ecological Footprint of 196 Countries\n",
      "15              Detect whether a person is smiling or not!\n",
      "16       A list of 3150 Amazon customers reviews for Al...\n",
      "17                    Explore Pollster Political Open Data\n",
      "18                              From Los Angeles Open Data\n",
      "19       Transcriptions of general debates at the UN fr...\n",
      "20               1.3 million labelled comments from Reddit\n",
      "21                            From San Francisco Open Data\n",
      "22       A dump of Wikipedia from 2017-08-20 converted ...\n",
      "23                          1600 christmas cooking recipes\n",
      "24               Music vs. Reading (3-4 min per condition)\n",
      "25                        Every play logged in 2018 Season\n",
      "26            Sketches and Strokes from the QuickDraw Game\n",
      "27                            Tweets Scrapped Using #trump\n",
      "28       130k wine reviews with variety, location, wine...\n",
      "29       High resolution images of individual bees on t...\n",
      "                               ...                        \n",
      "12990                                                  NaN\n",
      "12991                                                  NaN\n",
      "12992                                                  NaN\n",
      "12993                                                  NaN\n",
      "12994                     Explore Time Series from the BLS\n",
      "12995                                                  NaN\n",
      "12996                                                  NaN\n",
      "12997                                                  NaN\n",
      "12998                                                  NaN\n",
      "12999                     Explore Time Series from the BLS\n",
      "13000                     Explore Time Series from the BLS\n",
      "13001                     Explore Time Series from the BLS\n",
      "13002                     Explore Time Series from the BLS\n",
      "13003                     Explore Time Series from the BLS\n",
      "13004                     Explore Time Series from the BLS\n",
      "13005                     Explore Time Series from the BLS\n",
      "13006                     Explore Time Series from the BLS\n",
      "13007                     Explore Time Series from the BLS\n",
      "13008                     Explore Time Series from the BLS\n",
      "13009                     Explore Time Series from the BLS\n",
      "13010                     Explore Time Series from the BLS\n",
      "13011                     Explore Time Series from the BLS\n",
      "13012                     Explore Time Series from the BLS\n",
      "13013                     Explore Time Series from the BLS\n",
      "13014                     Explore Time Series from the BLS\n",
      "13015                     Explore Time Series from the BLS\n",
      "13016                     Explore Time Series from the BLS\n",
      "13017                     Explore Time Series from the BLS\n",
      "13018                                                  NaN\n",
      "13019                     Explore Time Series from the BLS\n",
      "Name: overview, Length: 13020, dtype: object\n"
     ]
    }
   ],
   "source": [
    "print(data.overview)"
   ]
  },
  {
   "cell_type": "code",
   "execution_count": 292,
   "metadata": {},
   "outputs": [
    {
     "name": "stdout",
     "output_type": "stream",
     "text": [
      "0           0\n",
      "1           0\n",
      "2           1\n",
      "3           0\n",
      "4           0\n",
      "5           0\n",
      "6           1\n",
      "7        None\n",
      "8           0\n",
      "9           0\n",
      "10          0\n",
      "11          1\n",
      "12          1\n",
      "13          0\n",
      "14          0\n",
      "15          0\n",
      "16          0\n",
      "17          0\n",
      "18          0\n",
      "19          0\n",
      "20          0\n",
      "21          1\n",
      "22          0\n",
      "23          6\n",
      "24          0\n",
      "25          6\n",
      "26          0\n",
      "27          0\n",
      "28          0\n",
      "29          2\n",
      "         ... \n",
      "12990    None\n",
      "12991    None\n",
      "12992    None\n",
      "12993    None\n",
      "12994       0\n",
      "12995    None\n",
      "12996    None\n",
      "12997    None\n",
      "12998    None\n",
      "12999       0\n",
      "13000       0\n",
      "13001       0\n",
      "13002       0\n",
      "13003       0\n",
      "13004       0\n",
      "13005       0\n",
      "13006       0\n",
      "13007       0\n",
      "13008       0\n",
      "13009       0\n",
      "13010       0\n",
      "13011       0\n",
      "13012       0\n",
      "13013       0\n",
      "13014       0\n",
      "13015       0\n",
      "13016       0\n",
      "13017       0\n",
      "13018    None\n",
      "13019       0\n",
      "Name: 0, Length: 13020, dtype: object\n"
     ]
    }
   ],
   "source": [
    "competitionCount = in_general.str.split(\"'competitionCount':\",n=1,expand = True)\n",
    "competitionCount = competitionCount[1]\n",
    "competitionCount = competitionCount.str.split(\",\",n=1,expand = True)\n",
    "competitionCount = competitionCount[0]\n",
    "print(competitionCount)"
   ]
  },
  {
   "cell_type": "code",
   "execution_count": 293,
   "metadata": {},
   "outputs": [],
   "source": [
    "for i in range(0, len(competitionCount)):\n",
    "    if competitionCount[i] == None:\n",
    "        competitionCount[i] = 0"
   ]
  },
  {
   "cell_type": "code",
   "execution_count": 294,
   "metadata": {},
   "outputs": [],
   "source": [
    "data['competitionCount'] = pd.Series(int(competitionCount))"
   ]
  },
  {
   "cell_type": "code",
   "execution_count": 295,
   "metadata": {},
   "outputs": [],
   "source": [
    "data['description'] = pd.Series(description)"
   ]
  },
  {
   "cell_type": "code",
   "execution_count": 296,
   "metadata": {},
   "outputs": [],
   "source": [
    "data['full'] = pd.Series(full)"
   ]
  },
  {
   "cell_type": "code",
   "execution_count": 297,
   "metadata": {},
   "outputs": [],
   "source": [
    "data[\"category\"] = pd.Series(category)"
   ]
  },
  {
   "cell_type": "code",
   "execution_count": 298,
   "metadata": {},
   "outputs": [],
   "source": [
    "data = data.drop(columns = [\"categories\"])"
   ]
  },
  {
   "cell_type": "code",
   "execution_count": 299,
   "metadata": {},
   "outputs": [],
   "source": [
    "overviews= [] "
   ]
  },
  {
   "cell_type": "code",
   "execution_count": 300,
   "metadata": {},
   "outputs": [
    {
     "name": "stdout",
     "output_type": "stream",
     "text": [
      "Sketches and Strokes from the QuickDraw Game\n"
     ]
    }
   ],
   "source": [
    "print(data.overview[26])"
   ]
  },
  {
   "cell_type": "code",
   "execution_count": 301,
   "metadata": {},
   "outputs": [],
   "source": [
    "for i in range(0, len(data.overview)):\n",
    "    if type(data.overview[i]) == None :\n",
    "        overviews.append(\"None\")\n",
    "    else:\n",
    "        overviews.append(data.overview[i])"
   ]
  },
  {
   "cell_type": "code",
   "execution_count": 304,
   "metadata": {},
   "outputs": [],
   "source": [
    "data.overview=overviews"
   ]
  },
  {
   "cell_type": "code",
   "execution_count": 305,
   "metadata": {},
   "outputs": [],
   "source": [
    "data.to_csv(\"clean.csv\")"
   ]
  },
  {
   "cell_type": "code",
   "execution_count": null,
   "metadata": {},
   "outputs": [],
   "source": []
  },
  {
   "cell_type": "code",
   "execution_count": null,
   "metadata": {},
   "outputs": [],
   "source": []
  },
  {
   "cell_type": "code",
   "execution_count": null,
   "metadata": {},
   "outputs": [],
   "source": []
  }
 ],
 "metadata": {
  "kernelspec": {
   "display_name": "Python 3",
   "language": "python",
   "name": "python3"
  },
  "language_info": {
   "codemirror_mode": {
    "name": "ipython",
    "version": 3
   },
   "file_extension": ".py",
   "mimetype": "text/x-python",
   "name": "python",
   "nbconvert_exporter": "python",
   "pygments_lexer": "ipython3",
   "version": "3.7.1"
  }
 },
 "nbformat": 4,
 "nbformat_minor": 2
}
